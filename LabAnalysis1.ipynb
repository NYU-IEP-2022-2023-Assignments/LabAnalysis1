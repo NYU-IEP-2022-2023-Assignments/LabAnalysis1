{
  "nbformat": 4,
  "nbformat_minor": 0,
  "metadata": {
    "colab": {
      "provenance": [],
      "collapsed_sections": [],
      "include_colab_link": true
    },
    "kernelspec": {
      "name": "python3",
      "display_name": "Python 3"
    },
    "language_info": {
      "name": "python"
    }
  },
  "cells": [
    {
      "cell_type": "markdown",
      "metadata": {
        "id": "view-in-github",
        "colab_type": "text"
      },
      "source": [
        "<a href=\"https://colab.research.google.com/github/NYU-IEP-2022-2023-Assignments/LabAnalysis1/blob/main/LabAnalysis1.ipynb\" target=\"_parent\"><img src=\"https://colab.research.google.com/assets/colab-badge.svg\" alt=\"Open In Colab\"/></a>"
      ]
    },
    {
      "cell_type": "code",
      "metadata": {
        "id": "js12JqEMpg0J"
      },
      "source": [
        "#make sure to run this cell first!\n",
        "import numpy as np\n",
        "import matplotlib.pyplot as plt"
      ],
      "execution_count": null,
      "outputs": []
    },
    {
      "cell_type": "markdown",
      "metadata": {
        "id": "nkap2yKDplvH"
      },
      "source": [
        "##Data entry\n",
        "In the cell below, please type in your results from your lab book. For instance, hand_a would have the 20 measurements of the period you made by counting one swing by hand"
      ]
    },
    {
      "cell_type": "code",
      "metadata": {
        "id": "Vb-KdWFBqCKu"
      },
      "source": [
        "method_a = np.array([]) #measurements made by hand, method A\n",
        "method_b = np.array([]) #measurements made by hand, method B\n",
        "method_c = np.array([]) #measurements made by hand, method C\n",
        "pre_change = np.array([]) #measurements made by hand, before you changed the pendulum length - this may be identical to method_c\n",
        "post_change = np.array([]) #measurements made by hand, after you changed the pendulum length \n"
      ],
      "execution_count": null,
      "outputs": []
    },
    {
      "cell_type": "code",
      "source": [],
      "metadata": {
        "id": "kyXOPdaM7yHp"
      },
      "execution_count": null,
      "outputs": []
    },
    {
      "cell_type": "markdown",
      "metadata": {
        "id": "gu6VvBD4yEt1"
      },
      "source": [
        "##Analysis of hand measurements A-C\n",
        "The \"standard error of the mean\" is how much you would expect the mean of your measurements to vary if you repeated the experiment, making the same number of measurements again. s.e.m. $= \\frac{\\sigma}{\\sqrt{N}}$, where $\\sigma$ is the standard deviation of the measurements. \n",
        "\n",
        "1. Calculate the mean ($\\mu$), standard deviation ($\\sigma$), and standard error of the mean for each of your hand measurements (s.e.m.). Use 1/(N-1) to calculate the standard deviation. Print these out as a table.\n",
        "2. For methods A-C, plot the stadard deviation vs. the number of periods counted, using circle markers connected with a line. \n",
        "3. Make an error plot with the x axis representing the measurement set (1 = A, 2 = B, 3 = C) and the mean and s.e.m. as the y center and error range respectively. Don't connect the markers with a line. Set the X-ticks to be 1,2,3, and 4. If you are fancy, you can change the X-tick labels from 1,2,3,4 to A,B,C,D. But you don't have to. *Note that if you made measurements A-C on different days, make a separate error plot for each day* \n",
        "4. Make a histogram showing measurement sets A-C in different colors. Use 20 bins spanning the range between $\\mu_C - 3\\sigma_A$ and $\\mu_C + 3\\sigma_A$. Add a legend to your plot to explain which color goes with which data set. ($\\mu_C$ is the mean of your measurements made with method C; $\\sigma_A$ is the standard deviation of your measurements made with method A.) *Note that if you made measurements A-C on different days, make a separate histogram for each day* \n",
        "5. Your histogram will be made using 20 values for measurements, A and B and 10 values for C. Can you make a frequency distribution instead, so that for each condition, all the values sum to 1?\n",
        "\n"
      ]
    },
    {
      "cell_type": "code",
      "metadata": {
        "id": "UXzvK3ruzVtk"
      },
      "source": [
        "## Write your code to do analysis of hand measurements here"
      ],
      "execution_count": null,
      "outputs": []
    },
    {
      "cell_type": "markdown",
      "metadata": {
        "id": "M__VvXN34VFq"
      },
      "source": [
        "##Questions - Please type your answers in here directly\n",
        "\n",
        "1. Are your measurements A-C consistent with each other? Explain why or why not; if they are not consistent, what does this mean? \n",
        "\n",
        "2. For methods A-C, how does the error (standard deviation) of a single measurement scale with the number of periods counted? "
      ]
    },
    {
      "cell_type": "markdown",
      "source": [
        "##Analysis of length change measurements\n",
        "1. Calculate the mean ($\\mu$), standard deviation ($\\sigma$), and standard error of the mean for the set of measurements before you changed the pendulum length and after you changed the pendulum length. Use 1/(N-1) to calculate the standard deviation. \n",
        "1. Using $L = g \\left(\\frac{T}{2\\pi}\\right)^2$, calculate the length of the pendulum before and after the change. IE if the period before the change is $T_1 \\pm \\Delta T_1$, calculate $L_1 \\pm \\Delta L_1$. You can do this by applying the formula for $T_1$, $T_1 + \\Delta T_1$ and $T_1 - \\Delta T_1$ or by taylor expansion/error propogation. Should you use the standard deviation or the standard error for $\\Delta T_1$. Do the same calculation to find $L_2 \\pm \\Delta L_2$. \n",
        "1. Please make a histogram showing the two sets of measurements on the same axis. \n",
        "  1. Start with 20 bins spanning 3 standard deviations below the lowest mean to 3 standard deviations above the highest mean. If the bins are underfilled (i.e. max bin has <= 3 elements), then adjust the number of bins down. If all the data is in only a few bins, then adjust the number of bins up. \n",
        "  1. Make the before and after histograms in different colors; use the options histtype='stepfilled' and alpha = 0.75 so that overlapping bins can be seen clearly. \n",
        "  1. Based on this histogram can you tell that when you changed the length, you also changed the period?\n",
        "1. Please make the same histogram again, keeping the same bin size but group all the measurements (before and after) into one set. \n",
        "  1. Based on this histogram, can you tell that there are two different lengths represented?"
      ],
      "metadata": {
        "id": "xKpkZMeK0988"
      }
    },
    {
      "cell_type": "markdown",
      "source": [
        "#Questions please type your answers in here directly\n",
        "\n",
        "1. Are your results (mean period and error bars) consistent with how much you changed the height?\n",
        "1. Look at your first histogram (with two colored groups). Fill in the blank with either \"standard deviation\" or \"standard error\". As long as the difference between the two means is significantly larger than the ________, I can tell the groups apart.\n",
        "1. Look at your second histogram (with all the data grouped together). Fill in the blank with either \"standard deviation\" or \"standard error\". As long as the difference between the two means is significantly larger than the ________, I can tell that there are two groups.\n"
      ],
      "metadata": {
        "id": "WO7sc_oy8H38"
      }
    }
  ]
}